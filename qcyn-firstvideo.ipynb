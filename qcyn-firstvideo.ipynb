{
 "cells": [
  {
   "cell_type": "code",
   "execution_count": 1,
   "metadata": {
    "collapsed": true
   },
   "outputs": [],
   "source": [
    "import pandas as pd\n",
    "import numpy as np\n",
    "import requests\n",
    "from bs4 import BeautifulSoup\n",
    "import json\n",
    "import pandas as pd\n",
    "from http import cookiejar\n",
    "from time import sleep\n",
    "import random\n",
    "from lxml import html\n",
    "import re\n",
    "import requests_cache\n",
    "from selenium import webdriver\n",
    "from scrapy.selector import Selector\n",
    "from time import sleep\n",
    "import time\n",
    "from datetime import datetime\n",
    "from datetime import timedelta\n",
    "import urllib\n",
    "from selenium.webdriver.firefox.firefox_binary import FirefoxBinary\n",
    "from PIL import ImageGrab\n",
    "#requests_cache.install_cache('qcyn--chuvote')\n",
    "import win32api,win32con\n",
    "from selenium.webdriver.common.action_chains import ActionChains"
   ]
  },
  {
   "cell_type": "code",
   "execution_count": 17,
   "metadata": {
    "collapsed": true
   },
   "outputs": [],
   "source": [
    "# private browsing\n",
    "firefox_profile = webdriver.FirefoxProfile()\n",
    "firefox_profile.set_preference(\"browser.privatebrowsing.autostart\", True)"
   ]
  },
  {
   "cell_type": "code",
   "execution_count": 5,
   "metadata": {
    "collapsed": true
   },
   "outputs": [],
   "source": [
    "def get_time():\n",
    "    utc_now = time.time()\n",
    "    utc_time = datetime.utcfromtimestamp(utc_now)\n",
    "    time2 = utc_time + timedelta(hours=8)\n",
    "    #nm = str(time2.hour)+\":\"+str(time2.minute)\n",
    "    return(time2)"
   ]
  },
  {
   "cell_type": "code",
   "execution_count": 6,
   "metadata": {
    "collapsed": true
   },
   "outputs": [],
   "source": [
    "driver = webdriver.Firefox(executable_path=r'E:\\geckodriver.exe',firefox_profile=firefox_profile)\n",
    "driver.get(\"https://www.iqiyi.com/v_19rqqsi88k.html?list=19rr9go3ae\")"
   ]
  },
  {
   "cell_type": "code",
   "execution_count": 7,
   "metadata": {},
   "outputs": [
    {
     "name": "stdout",
     "output_type": "stream",
     "text": [
      "\n"
     ]
    }
   ],
   "source": [
    "a = driver.find_element_by_tag_name(\"video\").get_property(\"src\")\n",
    "print(a)"
   ]
  },
  {
   "cell_type": "code",
   "execution_count": 8,
   "metadata": {
    "collapsed": true
   },
   "outputs": [],
   "source": [
    "mouse = driver.find_element_by_tag_name('video')\n",
    "ActionChains(driver).move_to_element(mouse).perform()\n",
    "length = driver.find_element_by_class_name(\"iqp-time-dur\").text"
   ]
  },
  {
   "cell_type": "code",
   "execution_count": 9,
   "metadata": {},
   "outputs": [
    {
     "data": {
      "text/plain": [
       "''"
      ]
     },
     "execution_count": 9,
     "metadata": {},
     "output_type": "execute_result"
    }
   ],
   "source": [
    "length"
   ]
  },
  {
   "cell_type": "code",
   "execution_count": 19,
   "metadata": {},
   "outputs": [
    {
     "name": "stdout",
     "output_type": "stream",
     "text": [
      "17_38:246\n",
      "00:00\n",
      "00:43\n"
     ]
    },
    {
     "ename": "KeyboardInterrupt",
     "evalue": "",
     "output_type": "error",
     "traceback": [
      "\u001b[1;31m---------------------------------------------------------------------------\u001b[0m",
      "\u001b[1;31mKeyboardInterrupt\u001b[0m                         Traceback (most recent call last)",
      "\u001b[1;32m<ipython-input-19-ef0cd100e2f7>\u001b[0m in \u001b[0;36m<module>\u001b[1;34m()\u001b[0m\n\u001b[0;32m      7\u001b[0m     \u001b[0mtarget\u001b[0m \u001b[1;33m=\u001b[0m \u001b[1;34m'00:43'\u001b[0m\u001b[1;33m\u001b[0m\u001b[0m\n\u001b[0;32m      8\u001b[0m     \u001b[1;32mwhile\u001b[0m \u001b[1;33m(\u001b[0m\u001b[0mlength\u001b[0m \u001b[1;33m!=\u001b[0m \u001b[0mtarget\u001b[0m\u001b[1;33m)\u001b[0m\u001b[1;33m:\u001b[0m\u001b[1;33m\u001b[0m\u001b[0m\n\u001b[1;32m----> 9\u001b[1;33m         \u001b[0msleep\u001b[0m\u001b[1;33m(\u001b[0m\u001b[0mrandom\u001b[0m\u001b[1;33m.\u001b[0m\u001b[0mrandrange\u001b[0m\u001b[1;33m(\u001b[0m\u001b[1;36m5\u001b[0m\u001b[1;33m,\u001b[0m\u001b[1;36m10\u001b[0m\u001b[1;33m)\u001b[0m\u001b[1;33m)\u001b[0m  \u001b[1;31m#load page and skip ads\u001b[0m\u001b[1;33m\u001b[0m\u001b[0m\n\u001b[0m\u001b[0;32m     10\u001b[0m         \u001b[1;32mtry\u001b[0m \u001b[1;33m:\u001b[0m\u001b[1;33m\u001b[0m\u001b[0m\n\u001b[0;32m     11\u001b[0m             \u001b[0mmouse\u001b[0m \u001b[1;33m=\u001b[0m \u001b[0mdriver\u001b[0m\u001b[1;33m.\u001b[0m\u001b[0mfind_element_by_tag_name\u001b[0m\u001b[1;33m(\u001b[0m\u001b[1;34m'video'\u001b[0m\u001b[1;33m)\u001b[0m\u001b[1;33m\u001b[0m\u001b[0m\n",
      "\u001b[1;31mKeyboardInterrupt\u001b[0m: "
     ]
    }
   ],
   "source": [
    "timetest = get_time()\n",
    "record = dict()\n",
    "while (timetest.day<=29):\n",
    "    driver = webdriver.Firefox(executable_path=r'E:\\geckodriver.exe',firefox_profile=firefox_profile)\n",
    "    driver.get(\"https://www.iqiyi.com/v_19rqqsi88k.html?list=19rr9go3ae\")\n",
    "    length = '0:0'\n",
    "    target = '00:43'\n",
    "    while (length != target):\n",
    "        sleep(random.randrange(5,10))  #load page and skip ads\n",
    "        try :\n",
    "            mouse = driver.find_element_by_tag_name('video')\n",
    "            ActionChains(driver).move_to_element(mouse).perform()\n",
    "            length = driver.find_element_by_class_name(\"iqp-time-dur\").text\n",
    "        except :\n",
    "            length = '0:0'\n",
    "    love = np.random.binomial(1,0.8)\n",
    "    if (love==1):\n",
    "        driver.execute_script(\"document.getElementsByClassName('like-red-heart')[0].click()\")  #点爱心\n",
    "    #locate:\n",
    "    #first_scra = random.randint(800,1300)\n",
    "    #driver.execute_script(\"window.scrollTo(0, 60)\")\n",
    "    \n",
    "    time2 = get_time()\n",
    "    nm = str(time2.hour)+\"_\"+str(time2.minute)\n",
    "    hot = driver.find_element_by_class_name(\"basic-txt\")\n",
    "    record[nm] = hot.text\n",
    "    print(nm+\":\"+hot.text)\n",
    "    \n",
    "    #calculate\n",
    "    mouse = driver.find_element_by_tag_name('video')\n",
    "    ActionChains(driver).move_to_element(mouse).perform()\n",
    "    nowtime = driver.find_element_by_class_name(\"iqp-time-cur\")\n",
    "    length = driver.find_element_by_class_name(\"iqp-time-dur\")\n",
    "    print(nowtime.text)\n",
    "    print(length.text)\n",
    "    begin = datetime.strptime(nowtime.text, '%M:%S')\n",
    "    \n",
    "    end = datetime.strptime(length.text, '%M:%S')\n",
    "    wait = (end-begin).total_seconds()\n",
    "    #time.sleep(4.95)\n",
    "    stop = np.random.binomial(1,0.1)\n",
    "    if (stop==1):\n",
    "        a = random.randint(5,wait)\n",
    "        time.sleep(a)\n",
    "        driver.execute_script(\"document.getElementsByTagName('video')[0].click()\")\n",
    "        first_scra = random.randint(800,1300)\n",
    "        driver.execute_script(\"window.scrollTo(0, \"+str(first_scra)+\")\")\n",
    "        sleep(random.randrange(1,5))\n",
    "        driver.execute_script(\"window.scrollTo(0,0)\")\n",
    "        driver.execute_script(\"document.getElementsByTagName('video')[0].click()\")\n",
    "        time.sleep(wait-a)\n",
    "    else:\n",
    "        time.sleep(wait)\n",
    "    time.sleep(4)\n",
    "    #print(length == target)\n",
    "    #while (length == target):\n",
    "    #    sleep(random.randrange(1,3))  #load page and skip ads\n",
    "    #    print(\"wait\")\n",
    "    #    try :\n",
    "    #        length = driver.find_element_by_class_name(\"iqp-time-dur\").text\n",
    "    #        print(length)\n",
    "    #    except :\n",
    "    #       length = '01:20'\n",
    "    driver.close()\n",
    "\n",
    "\n"
   ]
  },
  {
   "cell_type": "code",
   "execution_count": null,
   "metadata": {
    "collapsed": true
   },
   "outputs": [],
   "source": []
  }
 ],
 "metadata": {
  "kernelspec": {
   "display_name": "Python 3",
   "language": "python",
   "name": "python3"
  },
  "language_info": {
   "codemirror_mode": {
    "name": "ipython",
    "version": 3
   },
   "file_extension": ".py",
   "mimetype": "text/x-python",
   "name": "python",
   "nbconvert_exporter": "python",
   "pygments_lexer": "ipython3",
   "version": "3.6.3"
  }
 },
 "nbformat": 4,
 "nbformat_minor": 2
}
