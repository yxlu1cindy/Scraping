{
 "cells": [
  {
   "cell_type": "code",
   "execution_count": 1,
   "metadata": {
    "collapsed": true
   },
   "outputs": [],
   "source": [
    "import os\n",
    "import pandas as pd\n",
    "import numpy as np\n",
    "from datetime import datetime \n",
    "import time"
   ]
  },
  {
   "cell_type": "code",
   "execution_count": 2,
   "metadata": {
    "collapsed": true
   },
   "outputs": [],
   "source": [
    "dir = os.listdir(\"E:\\\\projects\\\\kaola\")"
   ]
  },
  {
   "cell_type": "code",
   "execution_count": 3,
   "metadata": {
    "collapsed": true
   },
   "outputs": [],
   "source": [
    "origin = pd.DataFrame()"
   ]
  },
  {
   "cell_type": "code",
   "execution_count": 4,
   "metadata": {
    "collapsed": true
   },
   "outputs": [],
   "source": [
    "i = 0\n",
    "for nm in dir:\n",
    "    A = nm\n",
    "    if 'wangyikaola' in nm:\n",
    "        temp = pd.read_csv(\"E:\\\\projects\\\\kaola\\\\\"+A)\n",
    "        A = A.replace('wangyikaola','')\n",
    "        A = A.replace('.csv','')\n",
    "        tm = datetime.strptime(\"2019_1_\"+A,\"%Y_%m_%d_%H_%M\")\n",
    "        temp = temp[['idolId','idolName','idolRank','idolVotes','lastVoteTime','rankChange']]\n",
    "        temp[\"current_time\"] = tm\n",
    "        origin = pd.concat([origin,temp],axis=0)\n",
    "        i = i + 1"
   ]
  },
  {
   "cell_type": "code",
   "execution_count": 5,
   "metadata": {
    "collapsed": true
   },
   "outputs": [],
   "source": [
    "origin.to_excel(\"E:\\\\projects\\\\kaola\\\\pandasdata.xlsx\",encoding=\"utf_8_sig\")"
   ]
  },
  {
   "cell_type": "code",
   "execution_count": 55,
   "metadata": {},
   "outputs": [
    {
     "data": {
      "text/plain": [
       "(22932, 7)"
      ]
     },
     "execution_count": 55,
     "metadata": {},
     "output_type": "execute_result"
    }
   ],
   "source": [
    "origin.shape"
   ]
  },
  {
   "cell_type": "code",
   "execution_count": 56,
   "metadata": {},
   "outputs": [
    {
     "data": {
      "text/html": [
       "<div>\n",
       "<style scoped>\n",
       "    .dataframe tbody tr th:only-of-type {\n",
       "        vertical-align: middle;\n",
       "    }\n",
       "\n",
       "    .dataframe tbody tr th {\n",
       "        vertical-align: top;\n",
       "    }\n",
       "\n",
       "    .dataframe thead th {\n",
       "        text-align: right;\n",
       "    }\n",
       "</style>\n",
       "<table border=\"1\" class=\"dataframe\">\n",
       "  <thead>\n",
       "    <tr style=\"text-align: right;\">\n",
       "      <th></th>\n",
       "      <th>idolId</th>\n",
       "      <th>idolName</th>\n",
       "      <th>idolRank</th>\n",
       "      <th>idolVotes</th>\n",
       "      <th>lastVoteTime</th>\n",
       "      <th>rankChange</th>\n",
       "      <th>current_time</th>\n",
       "    </tr>\n",
       "  </thead>\n",
       "  <tbody>\n",
       "    <tr>\n",
       "      <th>93</th>\n",
       "      <td>IDOL004</td>\n",
       "      <td>沈博怀</td>\n",
       "      <td>94</td>\n",
       "      <td>155</td>\n",
       "      <td>2019-01-17 00:41:40</td>\n",
       "      <td>0</td>\n",
       "      <td>2019-01-17 09:45:00</td>\n",
       "    </tr>\n",
       "    <tr>\n",
       "      <th>94</th>\n",
       "      <td>IDOL001</td>\n",
       "      <td>安东尼</td>\n",
       "      <td>95</td>\n",
       "      <td>139</td>\n",
       "      <td>2019-01-16 23:31:00</td>\n",
       "      <td>0</td>\n",
       "      <td>2019-01-17 09:45:00</td>\n",
       "    </tr>\n",
       "    <tr>\n",
       "      <th>95</th>\n",
       "      <td>IDOL044</td>\n",
       "      <td>连淮伟</td>\n",
       "      <td>96</td>\n",
       "      <td>101</td>\n",
       "      <td>2019-01-16 14:24:55</td>\n",
       "      <td>0</td>\n",
       "      <td>2019-01-17 09:45:00</td>\n",
       "    </tr>\n",
       "    <tr>\n",
       "      <th>96</th>\n",
       "      <td>IDOL063</td>\n",
       "      <td>石锌</td>\n",
       "      <td>97</td>\n",
       "      <td>83</td>\n",
       "      <td>2019-01-17 07:57:26</td>\n",
       "      <td>0</td>\n",
       "      <td>2019-01-17 09:45:00</td>\n",
       "    </tr>\n",
       "    <tr>\n",
       "      <th>97</th>\n",
       "      <td>IDOL011</td>\n",
       "      <td>陈雨浓</td>\n",
       "      <td>98</td>\n",
       "      <td>80</td>\n",
       "      <td>2019-01-17 00:03:18</td>\n",
       "      <td>0</td>\n",
       "      <td>2019-01-17 09:45:00</td>\n",
       "    </tr>\n",
       "  </tbody>\n",
       "</table>\n",
       "</div>"
      ],
      "text/plain": [
       "     idolId idolName  idolRank  idolVotes         lastVoteTime  rankChange  \\\n",
       "93  IDOL004      沈博怀        94        155  2019-01-17 00:41:40           0   \n",
       "94  IDOL001      安东尼        95        139  2019-01-16 23:31:00           0   \n",
       "95  IDOL044      连淮伟        96        101  2019-01-16 14:24:55           0   \n",
       "96  IDOL063       石锌        97         83  2019-01-17 07:57:26           0   \n",
       "97  IDOL011      陈雨浓        98         80  2019-01-17 00:03:18           0   \n",
       "\n",
       "          current_time  \n",
       "93 2019-01-17 09:45:00  \n",
       "94 2019-01-17 09:45:00  \n",
       "95 2019-01-17 09:45:00  \n",
       "96 2019-01-17 09:45:00  \n",
       "97 2019-01-17 09:45:00  "
      ]
     },
     "execution_count": 56,
     "metadata": {},
     "output_type": "execute_result"
    }
   ],
   "source": [
    "origin.tail()"
   ]
  },
  {
   "cell_type": "code",
   "execution_count": null,
   "metadata": {
    "collapsed": true
   },
   "outputs": [],
   "source": []
  }
 ],
 "metadata": {
  "kernelspec": {
   "display_name": "Python 3",
   "language": "python",
   "name": "python3"
  },
  "language_info": {
   "codemirror_mode": {
    "name": "ipython",
    "version": 3
   },
   "file_extension": ".py",
   "mimetype": "text/x-python",
   "name": "python",
   "nbconvert_exporter": "python",
   "pygments_lexer": "ipython3",
   "version": "3.6.3"
  }
 },
 "nbformat": 4,
 "nbformat_minor": 2
}
