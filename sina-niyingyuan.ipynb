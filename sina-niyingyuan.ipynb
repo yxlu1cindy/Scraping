{
 "cells": [
  {
   "cell_type": "code",
   "execution_count": 5,
   "metadata": {
    "collapsed": true
   },
   "outputs": [],
   "source": [
    "import pandas as pd\n",
    "import numpy as np\n",
    "import requests\n",
    "from bs4 import BeautifulSoup\n",
    "import json\n",
    "import pandas as pd\n",
    "from http import cookiejar\n",
    "from time import sleep\n",
    "import random\n",
    "from lxml import html\n",
    "import re\n",
    "import requests_cache\n",
    "from selenium import webdriver\n",
    "from scrapy.selector import Selector\n",
    "from time import sleep\n",
    "import time\n",
    "from datetime import datetime\n",
    "from datetime import timedelta\n",
    "import urllib\n",
    "from selenium.webdriver.firefox.firefox_binary import FirefoxBinary\n",
    "from PIL import ImageGrab\n",
    "#requests_cache.install_cache('qcyn--chuvote')\n",
    "import win32api,win32con\n",
    "from selenium.webdriver.common.action_chains import ActionChains"
   ]
  },
  {
   "cell_type": "code",
   "execution_count": 6,
   "metadata": {
    "collapsed": true
   },
   "outputs": [],
   "source": [
    "def get_time():\n",
    "    utc_now = time.time()\n",
    "    utc_time = datetime.utcfromtimestamp(utc_now)\n",
    "    time2 = utc_time + timedelta(hours=8)\n",
    "    #nm = str(time2.hour)+\":\"+str(time2.minute)\n",
    "    return(time2)"
   ]
  },
  {
   "cell_type": "code",
   "execution_count": 7,
   "metadata": {
    "collapsed": true
   },
   "outputs": [],
   "source": [
    "\n",
    "params = {\"u\":\"6436563121\",\"m\":\"4324156859858956\",\"cu\":\"6436563121\",\"containerid\":\"231610_standard_cardlist_1487_yanyuan_index\"}\n",
    "headers = {\"User-Agent\":\"Mozilla/5.0 (Windows NT 10.0; Win64; x64) AppleWebKit/537.36 (KHTML, like Gecko) Chrome/65.0.3325.162 Safari/537.36\",\n",
    "                  'Referer': 'https://m.weibo.cn/p/231610_standard_cardlist_1487_yanyuan_index?u=6436563121&m=4324156859858956&cu=6436563121',\n",
    "              \"Accept\":\"application/json, text/plain, */*\",\n",
    "                \"Accept-Encoding\": \"gzip, deflate, br\",\n",
    "                \"Accept-Language\": \"en-US,en;q=0.5\",\n",
    "                \"Host\": \"m.weibo.cn\"}\n",
    "\n"
   ]
  },
  {
   "cell_type": "code",
   "execution_count": null,
   "metadata": {},
   "outputs": [],
   "source": [
    "while True:\n",
    "    name = []\n",
    "    vote = []\n",
    "    url = \"https://m.weibo.cn/api/container/getIndex\"\n",
    "    res = requests.get(url,params = params)\n",
    "    try:\n",
    "        votedetail = json.loads(res.text)['data']['cards'][1][\"card_group\"]\n",
    "        for i in votedetail[2:52]:\n",
    "            name.append(i['items'][0]['title'])\n",
    "            name.append(i['items'][1]['title'])\n",
    "            vote.append(i['items'][0]['price2'])\n",
    "            vote.append(i['items'][1]['price2'])\n",
    "        a = pd.DataFrame([name,vote]).transpose()\n",
    "        a[1] = a[1].apply(lambda x: x.split()[0])\n",
    "        time2 =get_time()\n",
    "        nm =  str(time2.day)+\"_\"+str(time2.hour)+\"_\"+str(time2.minute)\n",
    "        a.to_csv(\"sina_niyingyuan\"+nm+\".csv\",encoding=\"utf_8_sig\")\n",
    "        time.sleep(600)\n",
    "    except:\n",
    "        pass"
   ]
  },
  {
   "cell_type": "code",
   "execution_count": 67,
   "metadata": {
    "collapsed": true
   },
   "outputs": [],
   "source": []
  },
  {
   "cell_type": "code",
   "execution_count": null,
   "metadata": {
    "collapsed": true
   },
   "outputs": [],
   "source": []
  },
  {
   "cell_type": "code",
   "execution_count": null,
   "metadata": {
    "collapsed": true
   },
   "outputs": [],
   "source": []
  },
  {
   "cell_type": "code",
   "execution_count": null,
   "metadata": {
    "collapsed": true
   },
   "outputs": [],
   "source": []
  },
  {
   "cell_type": "code",
   "execution_count": null,
   "metadata": {
    "collapsed": true
   },
   "outputs": [],
   "source": [
    "def get_vote(uid):\n",
    "    params = {\"u\":\"6436563121\",\"m\":\"4324156859858956\",\"cu\":\"6436563121\",\"containerid\":\"231610_standard_cardlist_1487_yanyuan_index\"}\n",
    "    headers = {\"User-Agent\":\"Mozilla/5.0 (Windows NT 10.0; Win64; x64) AppleWebKit/537.36 (KHTML, like Gecko) Chrome/65.0.3325.162 Safari/537.36\",\n",
    "                  'Referer': 'https://m.weibo.cn/p/231610_standard_cardlist_1487_yanyuan_index?u=6436563121&m=4324156859858956&cu=6436563121',\n",
    "              \"Accept\":\"application/json, text/plain, */*\",\n",
    "                \"Accept-Encoding\": \"gzip, deflate, br\",\n",
    "                \"Accept-Language\": \"en-US,en;q=0.5\",\n",
    "                \"Host\": \"m.weibo.cn\"}\n",
    "    url = \"https://m.weibo.cn/api/container/getIndex\"\n",
    "    res = requests.get(url,params = params)\n",
    "    votedetail = json.loads(res.text)[\"data\"][0][\"childs\"][0][\"options\"]\n",
    "    df = pd.DataFrame(votedetail)\n",
    "    df.kv = df.kv.str.replace('\"',\"\")\n",
    "    df.kv = df.kv.str.replace('{',\"\")\n",
    "    df.kv = df.kv.str.replace('}',\"\")\n",
    "    df.kv =df.kv.str.replace(r'[a-zA-Z]+\\_*[a-zA-Z]+:',\"\")\n",
    "    new = df.kv.str.split(\",\",n=7,expand = True)\n",
    "    print(df.shape)\n",
    "    df[\"aim_list\"] = new[0]\n",
    "    df[\"collectionid\"] = new[1]\n",
    "    df[\"Collection_URL\"] = new[2]\n",
    "    df[\"motto\"] = new[3]\n",
    "    df[\"order\"] = new[4]\n",
    "    df[\"peopleid\"] = new[5]\n",
    "    df[\"talents\"] = new[6]\n",
    "    df[\"video_qipuid\"] = new[7]\n",
    "    #df_new = df[[\"text\",\"showNum\"]]\n",
    "    #df_new = df_new.sort_values(by=['showNum'], ascending=False)\n",
    "    #df_new[\"order\"] = range(1,100)\n",
    "    return(df)"
   ]
  },
  {
   "cell_type": "code",
   "execution_count": 3,
   "metadata": {
    "collapsed": true
   },
   "outputs": [],
   "source": [
    "# private browsing\n",
    "firefox_profile = webdriver.FirefoxProfile()\n",
    "firefox_profile.set_preference(\"browser.privatebrowsing.autostart\", True)"
   ]
  },
  {
   "cell_type": "code",
   "execution_count": 4,
   "metadata": {
    "collapsed": true
   },
   "outputs": [],
   "source": []
  },
  {
   "cell_type": "code",
   "execution_count": 91,
   "metadata": {
    "collapsed": true
   },
   "outputs": [],
   "source": [
    "driver = webdriver.Firefox(executable_path=r'E:\\geckodriver.exe',firefox_profile=firefox_profile)\n",
    "driver.get(\"https://topstar.h5.weibo.cn/rank?rType=15&showmenu=1&topnavstyle=1&immersiveScroll=150\")"
   ]
  },
  {
   "cell_type": "code",
   "execution_count": 106,
   "metadata": {
    "collapsed": true
   },
   "outputs": [],
   "source": [
    "## load all\n",
    "for i in range(1,20):\n",
    "    driver.execute_script(\"window.scrollTo(0,\"+str(i*1000)+\")\")\n",
    "    time.sleep(0.5)\n",
    "driver.execute_script(\"window.scrollTo(0,0)\")    "
   ]
  },
  {
   "cell_type": "code",
   "execution_count": 158,
   "metadata": {
    "collapsed": true
   },
   "outputs": [],
   "source": [
    "info = {}\n",
    "name = []\n",
    "names_ele = driver.find_elements_by_class_name(\"m-text-cut\")\n",
    "\n",
    "i = 0\n",
    "for nm in names_ele:\n",
    "    info[i] = {'name':nm.text}\n",
    "    name.append(nm.text)\n",
    "    i = i + 1"
   ]
  },
  {
   "cell_type": "code",
   "execution_count": 170,
   "metadata": {
    "collapsed": true
   },
   "outputs": [],
   "source": [
    "score_overall = []\n",
    "score_ele = driver.find_elements_by_class_name(\"fm-dpb\")\n",
    "\n",
    "i = 0\n",
    "for s in score_ele:\n",
    "    if \".\" in s.text:\n",
    "        score_overall.append(s.text)\n",
    "        info[i].update({'score_overview':s.text})\n",
    "        i = i + 1"
   ]
  },
  {
   "cell_type": "code",
   "execution_count": null,
   "metadata": {
    "collapsed": true
   },
   "outputs": [],
   "source": [
    "driver.execute_script(\"document.getElementsByClassName('m-font m-font-arrow-down')[1].click()\")\n",
    "time.sleep(0.5)\n",
    "lt = driver.find_elements_by_class_name(\"open-const\")[1].find_elements_by_class_name('oindex-2')[0].text\n",
    "a = lt.split(\"\\n\")\n",
    "info[0].update({'yuedu_rank':a[1],'yuedu_score':a[2],'hudong_rank':a[5],'hudong_score':a[6],\n",
    "               'yingxiang_rank':a[9],'yingxiang_score':a[10],\"aimu_rank\":a[13],\"aimu_score\":a[14],\n",
    "               \"zheng_rank\":a[17],\"zheng_score\":a[18]})"
   ]
  },
  {
   "cell_type": "code",
   "execution_count": null,
   "metadata": {
    "collapsed": true
   },
   "outputs": [],
   "source": [
    "#driver.execute_script(\"document.getElementsByClassName('m-font m-font-arrow-down')[1].click()\")\n",
    "driver.execute_script(\"document.getElementsByClassName('m-font m-font-arrow-down')[2].click()\")\n",
    "time.sleep(0.5)\n",
    "lt = driver.find_elements_by_class_name(\"open-const\")[1].find_elements_by_class_name('oindex-1')[0].text\n",
    "a = lt.split(\"\\n\")\n",
    "info[1].update({'yuedu_rank':a[1],'yuedu_score':a[2],'hudong_rank':a[5],'hudong_score':a[6],\n",
    "               'yingxiang_rank':a[9],'yingxiang_score':a[10],\"aimu_rank\":a[13],\"aimu_score\":a[14],\n",
    "               \"zheng_rank\":a[17],\"zheng_score\":a[18]})"
   ]
  },
  {
   "cell_type": "code",
   "execution_count": 192,
   "metadata": {
    "collapsed": true
   },
   "outputs": [],
   "source": [
    "#driver.execute_script(\"document.getElementsByClassName('m-font m-font-arrow-down')[2].click()\")\n",
    "driver.execute_script(\"document.getElementsByClassName('m-font m-font-arrow-down')[3].click()\")\n",
    "time.sleep(0.5)\n",
    "lt = driver.find_elements_by_class_name(\"open-const\")[1].find_elements_by_class_name('oindex-3')[0].text\n",
    "a = lt.split(\"\\n\")\n",
    "info[2].update({'yuedu_rank':a[1],'yuedu_score':a[2],'hudong_rank':a[5],'hudong_score':a[6],\n",
    "               'yingxiang_rank':a[9],'yingxiang_score':a[10],\"aimu_rank\":a[13],\"aimu_score\":a[14],\n",
    "               \"zheng_rank\":a[17],\"zheng_score\":a[18]})"
   ]
  },
  {
   "cell_type": "code",
   "execution_count": 196,
   "metadata": {
    "collapsed": true
   },
   "outputs": [],
   "source": [
    "driver.execute_script(\"document.getElementsByClassName('m-font m-font-arrow-down')[3].click()\")"
   ]
  },
  {
   "cell_type": "code",
   "execution_count": null,
   "metadata": {
    "collapsed": true
   },
   "outputs": [],
   "source": [
    "time.sleep(0.5)"
   ]
  },
  {
   "cell_type": "code",
   "execution_count": 215,
   "metadata": {
    "collapsed": true
   },
   "outputs": [],
   "source": [
    "for i in range(4,101):\n",
    "    driver.execute_script(\"document.getElementsByClassName('m-font m-font-arrow-down')[\"+str(i)+\"].click()\")\n",
    "    time.sleep(0.5)\n",
    "    lt = driver.find_elements_by_class_name(\"open-const\")[2].text\n",
    "    a = lt.split(\"\\n\")\n",
    "    info[i-1].update({'yuedu_rank':a[1],'yuedu_score':a[2],'hudong_rank':a[5],'hudong_score':a[6],\n",
    "               'yingxiang_rank':a[9],'yingxiang_score':a[10],\"aimu_rank\":a[13],\"aimu_score\":a[14],\n",
    "               \"zheng_rank\":a[17],\"zheng_score\":a[18]})\n",
    "    driver.execute_script(\"document.getElementsByClassName('m-font m-font-arrow-down')[\"+str(i)+\"].click()\")"
   ]
  },
  {
   "cell_type": "code",
   "execution_count": 245,
   "metadata": {
    "collapsed": true
   },
   "outputs": [],
   "source": [
    "dt = pd.DataFrame.from_dict(info,orient='index')"
   ]
  },
  {
   "cell_type": "code",
   "execution_count": 246,
   "metadata": {
    "collapsed": true
   },
   "outputs": [],
   "source": [
    "dt = dt.sort_values(\"score_overview\",ascending=False)"
   ]
  },
  {
   "cell_type": "code",
   "execution_count": 247,
   "metadata": {
    "collapsed": true
   },
   "outputs": [],
   "source": [
    "dt.name = dt.name.apply(lambda x: x.split(\"-\")[1])\n",
    "dt.yuedu_rank = dt.yuedu_rank.apply(lambda x: x[2:])\n",
    "dt.hudong_rank = dt.hudong_rank.apply(lambda x: x[2:])\n",
    "dt.yingxiang_rank = dt.yingxiang_rank.apply(lambda x: x[2:])\n",
    "dt.aimu_rank = dt.aimu_rank.apply(lambda x: x[2:])\n",
    "dt.zheng_rank = dt.zheng_rank.apply(lambda x: x[2:])"
   ]
  },
  {
   "cell_type": "code",
   "execution_count": 251,
   "metadata": {
    "collapsed": true
   },
   "outputs": [],
   "source": [
    "dt.to_csv(\"sina_rank_2019_01_01.csv\",encoding='utf_8_sig')"
   ]
  },
  {
   "cell_type": "code",
   "execution_count": 252,
   "metadata": {},
   "outputs": [
    {
     "data": {
      "text/plain": [
       "[<selenium.webdriver.firefox.webelement.FirefoxWebElement (session=\"d4c02d10-62f0-44a4-b6e3-95ed2fff5c21\", element=\"d5b94462-3af5-452c-b150-88f2c7318043\")>,\n",
       " <selenium.webdriver.firefox.webelement.FirefoxWebElement (session=\"d4c02d10-62f0-44a4-b6e3-95ed2fff5c21\", element=\"399165ad-82c0-461c-9172-33693163c71e\")>,\n",
       " <selenium.webdriver.firefox.webelement.FirefoxWebElement (session=\"d4c02d10-62f0-44a4-b6e3-95ed2fff5c21\", element=\"9bf9f892-413f-48e7-9c6f-36af0d242164\")>,\n",
       " <selenium.webdriver.firefox.webelement.FirefoxWebElement (session=\"d4c02d10-62f0-44a4-b6e3-95ed2fff5c21\", element=\"1be7e634-a2ed-4d08-b124-257ac7264c24\")>,\n",
       " <selenium.webdriver.firefox.webelement.FirefoxWebElement (session=\"d4c02d10-62f0-44a4-b6e3-95ed2fff5c21\", element=\"20dca3a3-2c2e-434f-abb0-051d06de6432\")>,\n",
       " <selenium.webdriver.firefox.webelement.FirefoxWebElement (session=\"d4c02d10-62f0-44a4-b6e3-95ed2fff5c21\", element=\"20482f65-fa6d-49a1-8ae3-a2642e95b1b1\")>,\n",
       " <selenium.webdriver.firefox.webelement.FirefoxWebElement (session=\"d4c02d10-62f0-44a4-b6e3-95ed2fff5c21\", element=\"d18b7a64-a801-4b6b-856d-7f2245ec1a25\")>,\n",
       " <selenium.webdriver.firefox.webelement.FirefoxWebElement (session=\"d4c02d10-62f0-44a4-b6e3-95ed2fff5c21\", element=\"38f6f780-ccea-4e70-b3d2-ca1a602f1646\")>,\n",
       " <selenium.webdriver.firefox.webelement.FirefoxWebElement (session=\"d4c02d10-62f0-44a4-b6e3-95ed2fff5c21\", element=\"d30cd3db-ec0f-45e9-b873-527ff94b51e4\")>,\n",
       " <selenium.webdriver.firefox.webelement.FirefoxWebElement (session=\"d4c02d10-62f0-44a4-b6e3-95ed2fff5c21\", element=\"746493b3-3be1-4d67-b8f3-591aca7bfa70\")>,\n",
       " <selenium.webdriver.firefox.webelement.FirefoxWebElement (session=\"d4c02d10-62f0-44a4-b6e3-95ed2fff5c21\", element=\"14549d18-56b4-458b-8db7-2cd6085ea849\")>,\n",
       " <selenium.webdriver.firefox.webelement.FirefoxWebElement (session=\"d4c02d10-62f0-44a4-b6e3-95ed2fff5c21\", element=\"737ca644-63c7-44f3-ad2e-95538193ae16\")>,\n",
       " <selenium.webdriver.firefox.webelement.FirefoxWebElement (session=\"d4c02d10-62f0-44a4-b6e3-95ed2fff5c21\", element=\"a0e469a2-875e-4baa-a2e2-3d7f4d890535\")>,\n",
       " <selenium.webdriver.firefox.webelement.FirefoxWebElement (session=\"d4c02d10-62f0-44a4-b6e3-95ed2fff5c21\", element=\"6e3d2cbe-be52-42db-b072-4ec7a4fa18bb\")>,\n",
       " <selenium.webdriver.firefox.webelement.FirefoxWebElement (session=\"d4c02d10-62f0-44a4-b6e3-95ed2fff5c21\", element=\"b0a67bf1-f943-496f-93fb-9dd2cd320d92\")>,\n",
       " <selenium.webdriver.firefox.webelement.FirefoxWebElement (session=\"d4c02d10-62f0-44a4-b6e3-95ed2fff5c21\", element=\"2a9cfe73-76e3-4fb3-b942-e7dcbd85aa04\")>,\n",
       " <selenium.webdriver.firefox.webelement.FirefoxWebElement (session=\"d4c02d10-62f0-44a4-b6e3-95ed2fff5c21\", element=\"646498b1-f861-4700-8344-b25527191be1\")>,\n",
       " <selenium.webdriver.firefox.webelement.FirefoxWebElement (session=\"d4c02d10-62f0-44a4-b6e3-95ed2fff5c21\", element=\"3d0154f0-a576-4d46-9426-a47d383b4f0c\")>,\n",
       " <selenium.webdriver.firefox.webelement.FirefoxWebElement (session=\"d4c02d10-62f0-44a4-b6e3-95ed2fff5c21\", element=\"6d0bd402-94df-4042-99a0-1fc8c9976c16\")>,\n",
       " <selenium.webdriver.firefox.webelement.FirefoxWebElement (session=\"d4c02d10-62f0-44a4-b6e3-95ed2fff5c21\", element=\"1776be55-db96-4b2e-8571-64be3fa2e2d7\")>,\n",
       " <selenium.webdriver.firefox.webelement.FirefoxWebElement (session=\"d4c02d10-62f0-44a4-b6e3-95ed2fff5c21\", element=\"3dbe93ce-28df-42d9-b5e8-ca6c3b333e70\")>,\n",
       " <selenium.webdriver.firefox.webelement.FirefoxWebElement (session=\"d4c02d10-62f0-44a4-b6e3-95ed2fff5c21\", element=\"6b9827f4-b92d-4cff-81c0-90afd67b18e2\")>,\n",
       " <selenium.webdriver.firefox.webelement.FirefoxWebElement (session=\"d4c02d10-62f0-44a4-b6e3-95ed2fff5c21\", element=\"35fecc42-27a5-42a4-a54c-150ee25db47d\")>,\n",
       " <selenium.webdriver.firefox.webelement.FirefoxWebElement (session=\"d4c02d10-62f0-44a4-b6e3-95ed2fff5c21\", element=\"f1166114-ef08-4605-a01d-207e48346c6a\")>,\n",
       " <selenium.webdriver.firefox.webelement.FirefoxWebElement (session=\"d4c02d10-62f0-44a4-b6e3-95ed2fff5c21\", element=\"6568d0b9-16d9-4bcc-a59c-fea5b9df373c\")>,\n",
       " <selenium.webdriver.firefox.webelement.FirefoxWebElement (session=\"d4c02d10-62f0-44a4-b6e3-95ed2fff5c21\", element=\"4d68b9b5-382b-40da-b2f7-ae36b5d06493\")>,\n",
       " <selenium.webdriver.firefox.webelement.FirefoxWebElement (session=\"d4c02d10-62f0-44a4-b6e3-95ed2fff5c21\", element=\"a60a3ad5-cf08-4a32-978c-5a67a166913c\")>,\n",
       " <selenium.webdriver.firefox.webelement.FirefoxWebElement (session=\"d4c02d10-62f0-44a4-b6e3-95ed2fff5c21\", element=\"88dad0eb-6c54-4bfb-aedc-012c87bbcee7\")>,\n",
       " <selenium.webdriver.firefox.webelement.FirefoxWebElement (session=\"d4c02d10-62f0-44a4-b6e3-95ed2fff5c21\", element=\"07dcd5fb-fe5e-4ba9-80a6-9c991aaf76e2\")>,\n",
       " <selenium.webdriver.firefox.webelement.FirefoxWebElement (session=\"d4c02d10-62f0-44a4-b6e3-95ed2fff5c21\", element=\"61b8f35b-fae7-477f-b9d7-5ffa7e859228\")>,\n",
       " <selenium.webdriver.firefox.webelement.FirefoxWebElement (session=\"d4c02d10-62f0-44a4-b6e3-95ed2fff5c21\", element=\"f3e512a4-f939-424b-920c-6d30029c3157\")>,\n",
       " <selenium.webdriver.firefox.webelement.FirefoxWebElement (session=\"d4c02d10-62f0-44a4-b6e3-95ed2fff5c21\", element=\"7ba29734-808f-4ef5-9b27-25f9854224df\")>,\n",
       " <selenium.webdriver.firefox.webelement.FirefoxWebElement (session=\"d4c02d10-62f0-44a4-b6e3-95ed2fff5c21\", element=\"e5cda00e-9723-4c0a-9846-f79032e4e4b3\")>,\n",
       " <selenium.webdriver.firefox.webelement.FirefoxWebElement (session=\"d4c02d10-62f0-44a4-b6e3-95ed2fff5c21\", element=\"dbecd168-8df3-44fa-a113-09d06dae6fe3\")>,\n",
       " <selenium.webdriver.firefox.webelement.FirefoxWebElement (session=\"d4c02d10-62f0-44a4-b6e3-95ed2fff5c21\", element=\"8de6a529-13fe-4e7c-90a3-d4bc4abef12a\")>,\n",
       " <selenium.webdriver.firefox.webelement.FirefoxWebElement (session=\"d4c02d10-62f0-44a4-b6e3-95ed2fff5c21\", element=\"0b11f20e-bdaf-43c5-aa12-9a7b1e6d0020\")>,\n",
       " <selenium.webdriver.firefox.webelement.FirefoxWebElement (session=\"d4c02d10-62f0-44a4-b6e3-95ed2fff5c21\", element=\"ed28f52c-0b80-4d98-afdd-9e0f1803a8f9\")>,\n",
       " <selenium.webdriver.firefox.webelement.FirefoxWebElement (session=\"d4c02d10-62f0-44a4-b6e3-95ed2fff5c21\", element=\"eedd1adf-82e8-46c1-a7c9-59fe802d64de\")>,\n",
       " <selenium.webdriver.firefox.webelement.FirefoxWebElement (session=\"d4c02d10-62f0-44a4-b6e3-95ed2fff5c21\", element=\"5e6707ce-64cc-4222-8ac7-561167a8d2b8\")>,\n",
       " <selenium.webdriver.firefox.webelement.FirefoxWebElement (session=\"d4c02d10-62f0-44a4-b6e3-95ed2fff5c21\", element=\"c3fcf8f2-a415-4c90-9951-a3d315205860\")>,\n",
       " <selenium.webdriver.firefox.webelement.FirefoxWebElement (session=\"d4c02d10-62f0-44a4-b6e3-95ed2fff5c21\", element=\"9395405f-efc0-4d87-82d9-236f8980e996\")>,\n",
       " <selenium.webdriver.firefox.webelement.FirefoxWebElement (session=\"d4c02d10-62f0-44a4-b6e3-95ed2fff5c21\", element=\"9c8cdf35-3233-423d-848a-4aaafef869ec\")>,\n",
       " <selenium.webdriver.firefox.webelement.FirefoxWebElement (session=\"d4c02d10-62f0-44a4-b6e3-95ed2fff5c21\", element=\"df7ce6b0-eae5-4f75-9d04-bef83a0557dc\")>,\n",
       " <selenium.webdriver.firefox.webelement.FirefoxWebElement (session=\"d4c02d10-62f0-44a4-b6e3-95ed2fff5c21\", element=\"d33236b6-5843-48a3-b9a7-e973810a4125\")>,\n",
       " <selenium.webdriver.firefox.webelement.FirefoxWebElement (session=\"d4c02d10-62f0-44a4-b6e3-95ed2fff5c21\", element=\"b80f3eb6-7d14-4107-8bc3-f30cb2487cf3\")>,\n",
       " <selenium.webdriver.firefox.webelement.FirefoxWebElement (session=\"d4c02d10-62f0-44a4-b6e3-95ed2fff5c21\", element=\"4413a997-5616-41f0-803e-cc80116b4f91\")>,\n",
       " <selenium.webdriver.firefox.webelement.FirefoxWebElement (session=\"d4c02d10-62f0-44a4-b6e3-95ed2fff5c21\", element=\"0ea68fa9-c9ca-4150-af3f-e833d6a50b25\")>]"
      ]
     },
     "execution_count": 252,
     "metadata": {},
     "output_type": "execute_result"
    }
   ],
   "source": [
    "test"
   ]
  },
  {
   "cell_type": "code",
   "execution_count": 89,
   "metadata": {},
   "outputs": [
    {
     "data": {
      "text/plain": [
       "[]"
      ]
     },
     "execution_count": 89,
     "metadata": {},
     "output_type": "execute_result"
    }
   ],
   "source": [
    "driver.find_elements_by_class_name(\"m-font m-font-arrow-down\")"
   ]
  },
  {
   "cell_type": "code",
   "execution_count": 88,
   "metadata": {},
   "outputs": [
    {
     "data": {
      "text/plain": [
       "[]"
      ]
     },
     "execution_count": 88,
     "metadata": {},
     "output_type": "execute_result"
    }
   ],
   "source": [
    "sss"
   ]
  },
  {
   "cell_type": "code",
   "execution_count": 53,
   "metadata": {},
   "outputs": [
    {
     "ename": "TypeError",
     "evalue": "'FirefoxWebElement' object does not support indexing",
     "output_type": "error",
     "traceback": [
      "\u001b[1;31m---------------------------------------------------------------------------\u001b[0m",
      "\u001b[1;31mTypeError\u001b[0m                                 Traceback (most recent call last)",
      "\u001b[1;32m<ipython-input-53-ca5b5d430eaa>\u001b[0m in \u001b[0;36m<module>\u001b[1;34m()\u001b[0m\n\u001b[1;32m----> 1\u001b[1;33m \u001b[0mtest\u001b[0m\u001b[1;33m[\u001b[0m\u001b[1;36m0\u001b[0m\u001b[1;33m]\u001b[0m\u001b[1;33m.\u001b[0m\u001b[0mexecute_script\u001b[0m\u001b[1;33m(\u001b[0m\u001b[1;34m\"document.getElementsByClassName('m-font m-font-arrow-down')[2].click()\"\u001b[0m\u001b[1;33m)\u001b[0m\u001b[1;33m\u001b[0m\u001b[0m\n\u001b[0m",
      "\u001b[1;31mTypeError\u001b[0m: 'FirefoxWebElement' object does not support indexing"
     ]
    }
   ],
   "source": [
    "test[0].execute_script(\"document.getElementsByClassName('m-font m-font-arrow-down')[2].click()\")"
   ]
  },
  {
   "cell_type": "code",
   "execution_count": 67,
   "metadata": {
    "collapsed": true
   },
   "outputs": [],
   "source": [
    "sel = Selector(text=driver.page_source)"
   ]
  },
  {
   "cell_type": "code",
   "execution_count": null,
   "metadata": {
    "collapsed": true
   },
   "outputs": [],
   "source": []
  },
  {
   "cell_type": "code",
   "execution_count": 29,
   "metadata": {},
   "outputs": [
    {
     "ename": "AttributeError",
     "evalue": "'list' object has no attribute 'text'",
     "output_type": "error",
     "traceback": [
      "\u001b[1;31m---------------------------------------------------------------------------\u001b[0m",
      "\u001b[1;31mAttributeError\u001b[0m                            Traceback (most recent call last)",
      "\u001b[1;32m<ipython-input-29-556bc4b079ab>\u001b[0m in \u001b[0;36m<module>\u001b[1;34m()\u001b[0m\n\u001b[0;32m      1\u001b[0m \u001b[1;32mfor\u001b[0m \u001b[0mi\u001b[0m \u001b[1;32min\u001b[0m \u001b[0mids\u001b[0m\u001b[1;33m:\u001b[0m\u001b[1;33m\u001b[0m\u001b[0m\n\u001b[0;32m      2\u001b[0m     \u001b[0ma\u001b[0m \u001b[1;33m=\u001b[0m \u001b[0mi\u001b[0m\u001b[1;33m.\u001b[0m\u001b[0mfind_elements_by_class_name\u001b[0m\u001b[1;33m(\u001b[0m\u001b[1;34m'm-box-col o-tit'\u001b[0m\u001b[1;33m)\u001b[0m\u001b[1;33m\u001b[0m\u001b[0m\n\u001b[1;32m----> 3\u001b[1;33m     \u001b[0mprint\u001b[0m\u001b[1;33m(\u001b[0m\u001b[0ma\u001b[0m\u001b[1;33m.\u001b[0m\u001b[0mtext\u001b[0m\u001b[1;33m)\u001b[0m\u001b[1;33m\u001b[0m\u001b[0m\n\u001b[0m",
      "\u001b[1;31mAttributeError\u001b[0m: 'list' object has no attribute 'text'"
     ]
    }
   ],
   "source": [
    "for i in ids:\n",
    "    a = i.find_elements_by_class_name('m-box-col o-tit')\n",
    "    print(a.text)"
   ]
  },
  {
   "cell_type": "code",
   "execution_count": 65,
   "metadata": {},
   "outputs": [
    {
     "name": "stdout",
     "output_type": "stream",
     "text": [
      "23_38:972\n",
      "23_41:978\n",
      "23_44:978\n",
      "23_47:980\n",
      "23_50:980\n",
      "23_53:983\n",
      "23_56:983\n",
      "23_58:985\n",
      "0_2:985\n",
      "0_4:988\n",
      "0_7:990\n",
      "0_10:991\n",
      "0_14:991\n",
      "0_17:991\n",
      "0_20:991\n",
      "0_23:992\n",
      "0_26:992\n",
      "0_29:992\n",
      "0_32:992\n",
      "0_38:992\n",
      "0_41:992\n",
      "0_43:992\n",
      "0_46:992\n",
      "0_49:992\n",
      "0_52:992\n",
      "0_55:992\n",
      "0_58:992\n",
      "1_1:992\n",
      "1_4:992\n",
      "1_7:992\n",
      "1_13:992\n",
      "1_24:992\n",
      "1_27:993\n",
      "1_29:993\n",
      "1_32:993\n",
      "1_35:993\n",
      "1_38:993\n",
      "1_41:993\n",
      "1_44:993\n",
      "1_47:993\n",
      "1_52:993\n",
      "1_54:993\n",
      "1_57:993\n",
      "2_0:993\n",
      "2_2:993\n",
      "2_5:993\n",
      "2_18:993\n",
      "2_21:993\n",
      "2_24:993\n",
      "2_27:993\n",
      "2_30:993\n",
      "2_33:993\n",
      "2_36:993\n",
      "2_39:993\n",
      "2_41:993\n",
      "2_44:993\n",
      "2_47:993\n",
      "2_50:993\n",
      "2_53:993\n",
      "2_56:993\n",
      "2_59:993\n",
      "3_22:993\n",
      "3_25:993\n",
      "3_28:993\n",
      "3_31:993\n",
      "3_34:993\n",
      "3_37:993\n",
      "3_40:993\n",
      "3_43:993\n",
      "3_46:993\n",
      "3_48:993\n",
      "3_51:993\n",
      "3_54:993\n",
      "3_57:993\n",
      "4_0:993\n",
      "4_3:993\n",
      "4_6:栏目简介\n",
      "4_9:993\n",
      "4_12:993\n",
      "4_15:993\n",
      "4_17:993\n",
      "4_20:993\n",
      "4_23:993\n",
      "4_26:993\n",
      "4_29:993\n",
      "4_31:993\n",
      "4_35:993\n",
      "4_37:993\n",
      "4_40:993\n",
      "4_43:993\n",
      "4_46:993\n",
      "4_49:993\n",
      "4_52:993\n",
      "4_54:993\n",
      "4_57:993\n",
      "5_40:993\n",
      "5_42:993\n",
      "6_26:993\n",
      "6_29:993\n",
      "6_32:993\n",
      "6_35:994\n",
      "6_38:994\n",
      "6_41:994\n",
      "6_44:994\n",
      "6_47:994\n",
      "7_1:994\n",
      "7_3:994\n",
      "7_6:994\n",
      "7_9:994\n",
      "7_12:994\n",
      "7_15:994\n",
      "7_17:994\n",
      "7_20:994\n",
      "7_23:994\n",
      "7_26:994\n",
      "7_29:994\n",
      "7_32:994\n",
      "7_35:994\n",
      "7_38:994\n",
      "7_41:994\n",
      "7_44:994\n",
      "7_47:994\n",
      "7_50:994\n",
      "7_53:994\n",
      "7_55:994\n",
      "7_58:994\n",
      "8_1:994\n",
      "8_4:994\n",
      "8_7:994\n",
      "8_10:994\n",
      "8_13:994\n",
      "8_16:994\n",
      "8_19:994\n",
      "8_22:994\n",
      "8_24:994\n",
      "8_27:995\n",
      "8_30:995\n",
      "8_33:995\n",
      "8_36:995\n",
      "8_39:995\n",
      "8_42:995\n",
      "8_45:995\n",
      "8_48:995\n",
      "8_51:995\n",
      "8_54:995\n",
      "8_56:995\n",
      "8_59:995\n",
      "9_2:995\n",
      "9_5:995\n",
      "9_8:995\n",
      "9_11:995\n",
      "9_14:995\n",
      "9_16:995\n",
      "9_19:995\n",
      "9_29:996\n",
      "9_32:996\n",
      "9_35:996\n",
      "9_38:996\n",
      "9_41:996\n",
      "9_51:996\n",
      "9_54:996\n",
      "9_58:996\n",
      "10_1:996\n",
      "10_4:996\n",
      "10_7:996\n",
      "10_10:997\n",
      "10_13:997\n",
      "10_16:997\n",
      "10_20:997\n",
      "10_23:997\n",
      "10_26:997\n",
      "10_29:997\n",
      "10_31:997\n",
      "10_34:997\n",
      "10_37:997\n",
      "10_40:997\n",
      "10_43:998\n",
      "10_46:998\n",
      "10_49:998\n",
      "10_52:998\n",
      "10_55:998\n",
      "10_58:998\n",
      "11_1:998\n",
      "11_4:998\n",
      "11_7:998\n",
      "11_10:998\n",
      "11_15:999\n",
      "11_19:990\n",
      "11_23:990\n",
      "11_27:990\n",
      "11_30:栏目简介\n",
      "11_44:栏目简介\n",
      "11_47:栏目简介\n",
      "11_50:栏目简介\n"
     ]
    },
    {
     "ename": "KeyboardInterrupt",
     "evalue": "",
     "output_type": "error",
     "traceback": [
      "\u001b[1;31m---------------------------------------------------------------------------\u001b[0m",
      "\u001b[1;31mKeyboardInterrupt\u001b[0m                         Traceback (most recent call last)",
      "\u001b[1;32m<ipython-input-65-4b63deadddfb>\u001b[0m in \u001b[0;36m<module>\u001b[1;34m()\u001b[0m\n\u001b[0;32m     52\u001b[0m         \u001b[0mtime\u001b[0m\u001b[1;33m.\u001b[0m\u001b[0msleep\u001b[0m\u001b[1;33m(\u001b[0m\u001b[0mwait\u001b[0m\u001b[1;33m-\u001b[0m\u001b[0ma\u001b[0m\u001b[1;33m)\u001b[0m\u001b[1;33m\u001b[0m\u001b[0m\n\u001b[0;32m     53\u001b[0m     \u001b[1;32melse\u001b[0m\u001b[1;33m:\u001b[0m\u001b[1;33m\u001b[0m\u001b[0m\n\u001b[1;32m---> 54\u001b[1;33m         \u001b[0mtime\u001b[0m\u001b[1;33m.\u001b[0m\u001b[0msleep\u001b[0m\u001b[1;33m(\u001b[0m\u001b[0mwait\u001b[0m\u001b[1;33m)\u001b[0m\u001b[1;33m\u001b[0m\u001b[0m\n\u001b[0m\u001b[0;32m     55\u001b[0m     \u001b[0mtime\u001b[0m\u001b[1;33m.\u001b[0m\u001b[0msleep\u001b[0m\u001b[1;33m(\u001b[0m\u001b[1;36m4\u001b[0m\u001b[1;33m)\u001b[0m\u001b[1;33m\u001b[0m\u001b[0m\n\u001b[0;32m     56\u001b[0m     \u001b[1;31m#print(length == target)\u001b[0m\u001b[1;33m\u001b[0m\u001b[1;33m\u001b[0m\u001b[0m\n",
      "\u001b[1;31mKeyboardInterrupt\u001b[0m: "
     ]
    }
   ],
   "source": [
    "timetest = get_time()\n",
    "record = dict()\n",
    "while (timetest.day<=29):\n",
    "    driver = webdriver.Firefox(executable_path=r'E:\\geckodriver.exe',firefox_profile=firefox_profile)\n",
    "    driver.get(\"https://www.iqiyi.com/v_19rqpln99w.html\")\n",
    "    length = '0:0'\n",
    "    target = '01:20'\n",
    "    while (length != target):\n",
    "        sleep(random.randrange(10,20))  #load page and skip ads\n",
    "        try :\n",
    "            mouse = driver.find_element_by_tag_name('video')\n",
    "            ActionChains(driver).move_to_element(mouse).perform()\n",
    "            length = driver.find_element_by_class_name(\"iqp-time-dur\").text\n",
    "        except :\n",
    "            length = '0:0'\n",
    "    love = np.random.binomial(1,0.1)\n",
    "    if (love==1):\n",
    "        driver.execute_script(\"document.getElementsByClassName('like-red-heart')[0].click()\")  #点爱心\n",
    "    #locate:\n",
    "    #first_scra = random.randint(800,1300)\n",
    "    #driver.execute_script(\"window.scrollTo(0, 60)\")\n",
    "    \n",
    "    time2 = get_time()\n",
    "    nm = str(time2.hour)+\"_\"+str(time2.minute)\n",
    "    hot = driver.find_element_by_class_name(\"basic-txt\")\n",
    "    record[nm] = hot.text\n",
    "    print(nm+\":\"+hot.text)\n",
    "    win32api.keybd_event(win32con.VK_SNAPSHOT, 0)\n",
    "    time.sleep(0.5)\n",
    "    im=ImageGrab.grabclipboard()\n",
    "    im.save(\"E:/first-video/\" + str(nm)+\".png\")\n",
    "    \n",
    "    #calculate\n",
    "    mouse = driver.find_element_by_tag_name('video')\n",
    "    ActionChains(driver).move_to_element(mouse).perform()\n",
    "    nowtime = driver.find_element_by_class_name(\"iqp-time-cur\")\n",
    "    length = driver.find_element_by_class_name(\"iqp-time-dur\")\n",
    "    begin = datetime.strptime(nowtime.text, '%M:%S')\n",
    "    end = datetime.strptime(length.text, '%M:%S')\n",
    "    wait = (end-begin).total_seconds()\n",
    "    #time.sleep(4.95)\n",
    "    stop = np.random.binomial(1,0.1)\n",
    "    if (stop==1):\n",
    "        a = random.randint(5,wait)\n",
    "        time.sleep(a)\n",
    "        driver.execute_script(\"document.getElementsByTagName('video')[0].click()\")\n",
    "        first_scra = random.randint(800,1300)\n",
    "        driver.execute_script(\"window.scrollTo(0, \"+str(first_scra)+\")\")\n",
    "        sleep(random.randrange(5,10))\n",
    "        driver.execute_script(\"window.scrollTo(0,0)\")\n",
    "        driver.execute_script(\"document.getElementsByTagName('video')[0].click()\")\n",
    "        time.sleep(wait-a)\n",
    "    else:\n",
    "        time.sleep(wait)\n",
    "    time.sleep(4)\n",
    "    #print(length == target)\n",
    "    #while (length == target):\n",
    "    #    sleep(random.randrange(1,3))  #load page and skip ads\n",
    "    #    print(\"wait\")\n",
    "    #    try :\n",
    "    #        length = driver.find_element_by_class_name(\"iqp-time-dur\").text\n",
    "    #        print(length)\n",
    "    #    except :\n",
    "    #       length = '01:20'\n",
    "    driver.close()\n",
    "\n",
    "\n"
   ]
  },
  {
   "cell_type": "code",
   "execution_count": 6,
   "metadata": {
    "collapsed": true
   },
   "outputs": [],
   "source": [
    "https://www.iqiyi.com/v_19rqpln99w.html\"\n",
    "def get_time():\n",
    "    utc_now = time.time()\n",
    "    utc_time = datetime.utcfromtimestamp(utc_now)\n",
    "    time2 = utc_time + timedelta(hours=8)\n",
    "    nm = str(time2.hour)+\":\"+str(time2.minute)\n",
    "    return(nm)"
   ]
  },
  {
   "cell_type": "code",
   "execution_count": 7,
   "metadata": {
    "collapsed": true
   },
   "outputs": [],
   "source": [
    "record = dict()"
   ]
  },
  {
   "cell_type": "code",
   "execution_count": null,
   "metadata": {},
   "outputs": [
    {
     "name": "stdout",
     "output_type": "stream",
     "text": [
      "15:28:418\n",
      "15:58:441\n",
      "23:3:613\n",
      "23:33:620\n"
     ]
    }
   ],
   "source": [
    "i = 0\n",
    "while i < 20:\n",
    "    driver.get(\"https://www.iqiyi.com/v_19rqpgbdwc.html\")\n",
    "    sleep(random.randrange(15,25))\n",
    "    sel = Selector(text=driver.page_source)\n",
    "    hot = driver.find_element_by_class_name(\"basic-txt\")\n",
    "    nm = get_time()\n",
    "    record[nm] = hot.text\n",
    "    print(nm+\":\"+hot.text)\n",
    "    sleep(1800)\n",
    "    i = i + 1"
   ]
  },
  {
   "cell_type": "code",
   "execution_count": 27,
   "metadata": {
    "collapsed": true
   },
   "outputs": [],
   "source": [
    "User-Agent\t\n",
    "Mozilla/5.0 (Windows NT 10.0; …) Gecko/20100101 Firefox/64.0"
   ]
  },
  {
   "cell_type": "code",
   "execution_count": 42,
   "metadata": {
    "collapsed": true
   },
   "outputs": [],
   "source": [
    "utc_now = time.time()\n",
    "\n",
    "utc_time = datetime.utcfromtimestamp(utc_now)\n",
    "time2 = utc_time + timedelta(hours=8)"
   ]
  },
  {
   "cell_type": "code",
   "execution_count": 54,
   "metadata": {},
   "outputs": [
    {
     "data": {
      "text/plain": [
       "datetime.datetime(2018, 12, 26, 23, 18, 12, 571252)"
      ]
     },
     "execution_count": 54,
     "metadata": {},
     "output_type": "execute_result"
    }
   ],
   "source": [
    "time2.now()"
   ]
  },
  {
   "cell_type": "code",
   "execution_count": 55,
   "metadata": {},
   "outputs": [
    {
     "data": {
      "text/plain": [
       "'15_15'"
      ]
     },
     "execution_count": 55,
     "metadata": {},
     "output_type": "execute_result"
    }
   ],
   "source": []
  },
  {
   "cell_type": "code",
   "execution_count": null,
   "metadata": {
    "collapsed": true
   },
   "outputs": [],
   "source": []
  }
 ],
 "metadata": {
  "kernelspec": {
   "display_name": "Python 3",
   "language": "python",
   "name": "python3"
  },
  "language_info": {
   "codemirror_mode": {
    "name": "ipython",
    "version": 3
   },
   "file_extension": ".py",
   "mimetype": "text/x-python",
   "name": "python",
   "nbconvert_exporter": "python",
   "pygments_lexer": "ipython3",
   "version": "3.6.3"
  }
 },
 "nbformat": 4,
 "nbformat_minor": 2
}
